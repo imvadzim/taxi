{
 "cells": [
  {
   "cell_type": "code",
   "execution_count": 1,
   "id": "289ffa76",
   "metadata": {},
   "outputs": [
    {
     "name": "stdout",
     "output_type": "stream",
     "text": [
      "tensorflow==2.5.0\r\n"
     ]
    }
   ],
   "source": [
    "!pip freeze | grep tensorflow==2.5"
   ]
  },
  {
   "cell_type": "code",
   "execution_count": 3,
   "id": "452d9426",
   "metadata": {},
   "outputs": [
    {
     "name": "stdout",
     "output_type": "stream",
     "text": [
      "2.5.0\n"
     ]
    }
   ],
   "source": [
    "# Import libraries\n",
    "import tensorflow as tf\n",
    "import numpy as np\n",
    "import shutil\n",
    "print(tf.__version__)"
   ]
  },
  {
   "cell_type": "code",
   "execution_count": 4,
   "id": "d57b2844",
   "metadata": {},
   "outputs": [],
   "source": [
    "# Read the data\n",
    "\n",
    "CSV_COLUMNS = ['fare_amount','pickuplon','pickuplat','dropofflon','dropofflat','passengers','key']\n",
    "LABEL_COLUMN = 'fare_amount'\n",
    "DEFAULTS = [[0.0], [-74.0], [40.0], [-74.0], [40.7], [1.0], ['nokey']]\n",
    "\n",
    "def read_dataset(filename, mode, batch_size=512):\n",
    "    def _input_fn():\n",
    "        def decode_csv(value_column):\n",
    "            columns = tf.compat.v1.decode_csv(value_column, record_defaults=DEFAULTS)\n",
    "            features = dict(zip(CSV_COLUMNS, columns))\n",
    "            label = features.pop(LABEL_COLUMN)\n",
    "            return features, label\n",
    "        \n",
    "        # Create list of files that match pattern\n",
    "        file_list = tf.compat.v1.gfile.Glob(filename)\n",
    "        \n",
    "        # Create dataset from file list\n",
    "        dataset = tf.compat.v1.data.TextLineDataset(file_list).map(decode_csv)\n",
    "        \n",
    "        if mode == tf.estimator.ModeKeys.TRAIN:\n",
    "            num_epochs = None # indefinetely\n",
    "            dataset = dataset.shuffle(buffer_size=10*batch_size)\n",
    "        else:\n",
    "            num_epochs=1 # end-of-input after this\n",
    "            \n",
    "        dataset = dataset.repeat(num_epochs).batch(batch_size)\n",
    "        return dataset.make_one_shot_iterator().get_next()\n",
    "    return _input_fn"
   ]
  },
  {
   "cell_type": "code",
   "execution_count": 5,
   "id": "259b1c44",
   "metadata": {},
   "outputs": [],
   "source": [
    "# Create features out of input data\n",
    "INPUT_COLUMNS = [\n",
    "    tf.feature_column.numeric_column('pickuplon'),\n",
    "    tf.feature_column.numeric_column('pickuplat'),\n",
    "    tf.feature_column.numeric_column('dropofflat'),\n",
    "    tf.feature_column.numeric_column('dropofflon'),\n",
    "    tf.feature_column.numeric_column('passengers')\n",
    "]\n",
    "def add_more_features(feats):\n",
    "    # Nothing to add (yet!)\n",
    "    return feats\n",
    "\n",
    "features_cols = add_more_features(INPUT_COLUMNS)"
   ]
  },
  {
   "cell_type": "code",
   "execution_count": 6,
   "id": "7cf623be",
   "metadata": {},
   "outputs": [],
   "source": [
    "# Train and evaluate\n",
    "def service_input_fn():\n",
    "    feature_placeholders = {\n",
    "        'pickuplon' : tf.compat.v1.placeholder(tf.float32, [None]),\n",
    "        'pickuplat' : tf.compat.v1.placeholder(tf.float32, [None]),\n",
    "        'dropofflat' : tf.compat.v1.placeholder(tf.float32, [None]),\n",
    "        'dropofflon' : tf.compat.v1.placeholder(tf.float32, [None]),\n",
    "        'passengers' : tf.compat.v1.placeholder(tf.float32, [None])\n",
    "    }\n",
    "    features = {\n",
    "        key: tf.expand_dims(tensor, -1)\n",
    "        for key, tensor in feature_placeholders.items()\n",
    "    }\n",
    "    return tf.estimator.export.ServingInputReceiver(features, feature_placeholders)"
   ]
  },
  {
   "cell_type": "code",
   "execution_count": 7,
   "id": "9a3e4adf",
   "metadata": {},
   "outputs": [],
   "source": [
    "def train_and_evaluate(output_dir, num_train_steps):\n",
    "    estimator = tf.estimator.LinearRegressor(\n",
    "        model_dir=output_dir,\n",
    "        feature_columns=features_cols)\n",
    "    train_spec=tf.estimator.TrainSpec(\n",
    "        input_fn=read_dataset('./taxi-train.csv', \n",
    "                              mode=tf.estimator.ModeKeys.TRAIN),\n",
    "        max_steps=num_train_steps)\n",
    "    exporter = tf.estimator.LatestExporter('exporter', service_input_fn)\n",
    "    eval_spec=tf.estimator.EvalSpec(input_fn=read_dataset('./taxi-valid.csv',\n",
    "                                                          mode=tf.estimator.ModeKeys.EVAL), \n",
    "                                    steps=None, \n",
    "                                    start_delay_secs=1, # start evaluating after N seconds\n",
    "                                    throttle_secs=10, # evaluate every N seconds\n",
    "                                    exporters=exporter)\n",
    "    tf.estimator.train_and_evaluate(estimator, train_spec, eval_spec)"
   ]
  },
  {
   "cell_type": "code",
   "execution_count": 8,
   "id": "4a5df933",
   "metadata": {},
   "outputs": [
    {
     "name": "stdout",
     "output_type": "stream",
     "text": [
      "INFO:tensorflow:Using default config.\n",
      "INFO:tensorflow:Using config: {'_model_dir': 'taxi_trained', '_tf_random_seed': None, '_save_summary_steps': 100, '_save_checkpoints_steps': None, '_save_checkpoints_secs': 600, '_session_config': allow_soft_placement: true\n",
      "graph_options {\n",
      "  rewrite_options {\n",
      "    meta_optimizer_iterations: ONE\n",
      "  }\n",
      "}\n",
      ", '_keep_checkpoint_max': 5, '_keep_checkpoint_every_n_hours': 10000, '_log_step_count_steps': 100, '_train_distribute': None, '_device_fn': None, '_protocol': None, '_eval_distribute': None, '_experimental_distribute': None, '_experimental_max_worker_delay_secs': None, '_session_creation_timeout_secs': 7200, '_checkpoint_save_graph_def': True, '_service': None, '_cluster_spec': ClusterSpec({}), '_task_type': 'worker', '_task_id': 0, '_global_id_in_cluster': 0, '_master': '', '_evaluation_master': '', '_is_chief': True, '_num_ps_replicas': 0, '_num_worker_replicas': 1}\n",
      "INFO:tensorflow:Not using Distribute Coordinator.\n",
      "INFO:tensorflow:Running training and evaluation locally (non-distributed).\n",
      "INFO:tensorflow:Start train and evaluate loop. The evaluate will happen after every checkpoint. Checkpoint frequency is determined based on RunConfig arguments: save_checkpoints_steps None or save_checkpoints_secs 600.\n",
      "WARNING:tensorflow:From /home/vadzim/miniconda3/lib/python3.9/site-packages/tensorflow/python/training/training_util.py:235: Variable.initialized_value (from tensorflow.python.ops.variables) is deprecated and will be removed in a future version.\n",
      "Instructions for updating:\n",
      "Use Variable.read_value. Variables in 2.X are initialized automatically both in eager and graph (inside tf.defun) contexts.\n",
      "WARNING:tensorflow:From /tmp/ipykernel_3953/3300764830.py:28: DatasetV1.make_one_shot_iterator (from tensorflow.python.data.ops.dataset_ops) is deprecated and will be removed in a future version.\n",
      "Instructions for updating:\n",
      "This is a deprecated API that should only be used in TF 1 graph mode and legacy TF 2 graph mode available through `tf.compat.v1`. In all other situations -- namely, eager mode and inside `tf.function` -- you can consume dataset elements using `for elem in dataset: ...` or by explicitly creating iterator via `iterator = iter(dataset)` and fetching its elements via `values = next(iterator)`. Furthermore, this API is not available in TF 2. During the transition from TF 1 to TF 2 you can use `tf.compat.v1.data.make_one_shot_iterator(dataset)` to create a TF 1 graph mode style iterator for a dataset created through TF 2 APIs. Note that this should be a transient state of your code base as there are in general no guarantees about the interoperability of TF 1 and TF 2 code.\n",
      "INFO:tensorflow:Calling model_fn.\n"
     ]
    },
    {
     "name": "stderr",
     "output_type": "stream",
     "text": [
      "2022-08-21 13:46:01.306783: W tensorflow/stream_executor/platform/default/dso_loader.cc:64] Could not load dynamic library 'libcuda.so.1'; dlerror: libcuda.so.1: cannot open shared object file: No such file or directory\n",
      "2022-08-21 13:46:01.306816: W tensorflow/stream_executor/cuda/cuda_driver.cc:326] failed call to cuInit: UNKNOWN ERROR (303)\n",
      "2022-08-21 13:46:01.306902: I tensorflow/stream_executor/cuda/cuda_diagnostics.cc:156] kernel driver does not appear to be running on this host (vadzim-pc): /proc/driver/nvidia/version does not exist\n",
      "/home/vadzim/miniconda3/lib/python3.9/site-packages/tensorflow/python/keras/engine/base_layer_v1.py:1700: UserWarning: `layer.add_variable` is deprecated and will be removed in a future version. Please use `layer.add_weight` method instead.\n",
      "  warnings.warn('`layer.add_variable` is deprecated and '\n"
     ]
    },
    {
     "name": "stdout",
     "output_type": "stream",
     "text": [
      "WARNING:tensorflow:From /home/vadzim/miniconda3/lib/python3.9/site-packages/tensorflow/python/keras/optimizer_v2/ftrl.py:148: calling Constant.__init__ (from tensorflow.python.ops.init_ops) with dtype is deprecated and will be removed in a future version.\n",
      "Instructions for updating:\n",
      "Call initializer instance with the dtype argument instead of passing it to the constructor\n",
      "INFO:tensorflow:Done calling model_fn.\n",
      "INFO:tensorflow:Create CheckpointSaverHook.\n",
      "INFO:tensorflow:Graph was finalized.\n"
     ]
    },
    {
     "name": "stderr",
     "output_type": "stream",
     "text": [
      "2022-08-21 13:46:02.034470: I tensorflow/core/platform/cpu_feature_guard.cc:142] This TensorFlow binary is optimized with oneAPI Deep Neural Network Library (oneDNN) to use the following CPU instructions in performance-critical operations:  AVX2 FMA\n",
      "To enable them in other operations, rebuild TensorFlow with the appropriate compiler flags.\n",
      "2022-08-21 13:46:02.134176: I tensorflow/core/platform/profile_utils/cpu_utils.cc:114] CPU Frequency: 2596310000 Hz\n"
     ]
    },
    {
     "name": "stdout",
     "output_type": "stream",
     "text": [
      "INFO:tensorflow:Running local_init_op.\n",
      "INFO:tensorflow:Done running local_init_op.\n",
      "INFO:tensorflow:Calling checkpoint listeners before saving checkpoint 0...\n",
      "INFO:tensorflow:Saving checkpoints for 0 into taxi_trained/model.ckpt.\n",
      "INFO:tensorflow:Calling checkpoint listeners after saving checkpoint 0...\n",
      "INFO:tensorflow:loss = 201.44138, step = 0\n"
     ]
    },
    {
     "name": "stderr",
     "output_type": "stream",
     "text": [
      "2022-08-21 13:46:03.131698: I tensorflow/compiler/mlir/mlir_graph_optimization_pass.cc:176] None of the MLIR Optimization Passes are enabled (registered 2)\n"
     ]
    },
    {
     "name": "stdout",
     "output_type": "stream",
     "text": [
      "INFO:tensorflow:global_step/sec: 74.7138\n",
      "INFO:tensorflow:loss = 69.58467, step = 100 (1.340 sec)\n",
      "INFO:tensorflow:global_step/sec: 89.7481\n",
      "INFO:tensorflow:loss = 72.18041, step = 200 (1.114 sec)\n",
      "INFO:tensorflow:global_step/sec: 83.0735\n",
      "INFO:tensorflow:loss = 99.286865, step = 300 (1.205 sec)\n",
      "INFO:tensorflow:global_step/sec: 89.7447\n",
      "INFO:tensorflow:loss = 100.000565, step = 400 (1.113 sec)\n",
      "INFO:tensorflow:global_step/sec: 88.1101\n",
      "INFO:tensorflow:loss = 92.08533, step = 500 (1.135 sec)\n",
      "INFO:tensorflow:global_step/sec: 81.0963\n",
      "INFO:tensorflow:loss = 110.32201, step = 600 (1.233 sec)\n",
      "INFO:tensorflow:global_step/sec: 90.3867\n",
      "INFO:tensorflow:loss = 81.94925, step = 700 (1.107 sec)\n",
      "INFO:tensorflow:global_step/sec: 89.0936\n",
      "INFO:tensorflow:loss = 93.9918, step = 800 (1.122 sec)\n",
      "INFO:tensorflow:global_step/sec: 89.2221\n",
      "INFO:tensorflow:loss = 103.135666, step = 900 (1.121 sec)\n",
      "INFO:tensorflow:global_step/sec: 88.9828\n",
      "INFO:tensorflow:loss = 75.616684, step = 1000 (1.125 sec)\n",
      "INFO:tensorflow:global_step/sec: 89.8755\n",
      "INFO:tensorflow:loss = 79.608574, step = 1100 (1.111 sec)\n",
      "INFO:tensorflow:global_step/sec: 86.3277\n",
      "INFO:tensorflow:loss = 84.302025, step = 1200 (1.158 sec)\n",
      "INFO:tensorflow:global_step/sec: 88.2907\n",
      "INFO:tensorflow:loss = 103.2354, step = 1300 (1.133 sec)\n",
      "INFO:tensorflow:global_step/sec: 88.704\n",
      "INFO:tensorflow:loss = 66.12491, step = 1400 (1.128 sec)\n",
      "INFO:tensorflow:global_step/sec: 89.7988\n",
      "INFO:tensorflow:loss = 69.07323, step = 1500 (1.114 sec)\n",
      "INFO:tensorflow:global_step/sec: 82.5008\n",
      "INFO:tensorflow:loss = 74.396835, step = 1600 (1.212 sec)\n",
      "INFO:tensorflow:global_step/sec: 88.2146\n",
      "INFO:tensorflow:loss = 100.001465, step = 1700 (1.135 sec)\n",
      "INFO:tensorflow:global_step/sec: 81.7136\n",
      "INFO:tensorflow:loss = 86.87431, step = 1800 (1.222 sec)\n",
      "INFO:tensorflow:global_step/sec: 88.2815\n",
      "INFO:tensorflow:loss = 109.679634, step = 1900 (1.133 sec)\n",
      "INFO:tensorflow:global_step/sec: 84.0452\n",
      "INFO:tensorflow:loss = 68.90449, step = 2000 (1.190 sec)\n",
      "INFO:tensorflow:global_step/sec: 85.9889\n",
      "INFO:tensorflow:loss = 141.10202, step = 2100 (1.163 sec)\n",
      "INFO:tensorflow:global_step/sec: 88.9948\n",
      "INFO:tensorflow:loss = 95.76764, step = 2200 (1.124 sec)\n",
      "INFO:tensorflow:global_step/sec: 86.1135\n",
      "INFO:tensorflow:loss = 108.711685, step = 2300 (1.161 sec)\n",
      "INFO:tensorflow:global_step/sec: 88.8534\n",
      "INFO:tensorflow:loss = 98.259995, step = 2400 (1.125 sec)\n",
      "INFO:tensorflow:global_step/sec: 90.0536\n",
      "INFO:tensorflow:loss = 99.89261, step = 2500 (1.111 sec)\n",
      "INFO:tensorflow:global_step/sec: 88.864\n",
      "INFO:tensorflow:loss = 89.11099, step = 2600 (1.125 sec)\n",
      "INFO:tensorflow:global_step/sec: 82.2119\n",
      "INFO:tensorflow:loss = 89.25209, step = 2700 (1.216 sec)\n",
      "INFO:tensorflow:global_step/sec: 86.2243\n",
      "INFO:tensorflow:loss = 100.81064, step = 2800 (1.160 sec)\n",
      "INFO:tensorflow:global_step/sec: 86.5767\n",
      "INFO:tensorflow:loss = 112.07555, step = 2900 (1.157 sec)\n",
      "INFO:tensorflow:global_step/sec: 79.1947\n",
      "INFO:tensorflow:loss = 96.61998, step = 3000 (1.261 sec)\n",
      "INFO:tensorflow:global_step/sec: 86.6165\n",
      "INFO:tensorflow:loss = 96.408554, step = 3100 (1.155 sec)\n",
      "INFO:tensorflow:global_step/sec: 85.7842\n",
      "INFO:tensorflow:loss = 86.90947, step = 3200 (1.166 sec)\n",
      "INFO:tensorflow:global_step/sec: 90.1696\n",
      "INFO:tensorflow:loss = 93.516846, step = 3300 (1.109 sec)\n",
      "INFO:tensorflow:global_step/sec: 91.8107\n",
      "INFO:tensorflow:loss = 88.997406, step = 3400 (1.089 sec)\n",
      "INFO:tensorflow:global_step/sec: 91.5769\n",
      "INFO:tensorflow:loss = 117.5511, step = 3500 (1.092 sec)\n",
      "INFO:tensorflow:global_step/sec: 89.9518\n",
      "INFO:tensorflow:loss = 61.58638, step = 3600 (1.113 sec)\n",
      "INFO:tensorflow:global_step/sec: 90.718\n",
      "INFO:tensorflow:loss = 133.3433, step = 3700 (1.102 sec)\n",
      "INFO:tensorflow:global_step/sec: 81.5964\n",
      "INFO:tensorflow:loss = 94.14174, step = 3800 (1.224 sec)\n",
      "INFO:tensorflow:global_step/sec: 90.097\n",
      "INFO:tensorflow:loss = 129.1824, step = 3900 (1.110 sec)\n",
      "INFO:tensorflow:global_step/sec: 89.7046\n",
      "INFO:tensorflow:loss = 94.756836, step = 4000 (1.115 sec)\n",
      "INFO:tensorflow:global_step/sec: 89.5126\n",
      "INFO:tensorflow:loss = 76.03081, step = 4100 (1.117 sec)\n",
      "INFO:tensorflow:global_step/sec: 83.3056\n",
      "INFO:tensorflow:loss = 81.537575, step = 4200 (1.201 sec)\n",
      "INFO:tensorflow:global_step/sec: 45.2502\n",
      "INFO:tensorflow:loss = 130.41347, step = 4300 (2.210 sec)\n",
      "INFO:tensorflow:global_step/sec: 71.3929\n",
      "INFO:tensorflow:loss = 93.2789, step = 4400 (1.401 sec)\n",
      "INFO:tensorflow:global_step/sec: 59.8056\n",
      "INFO:tensorflow:loss = 100.71199, step = 4500 (1.672 sec)\n",
      "INFO:tensorflow:global_step/sec: 89.0318\n",
      "INFO:tensorflow:loss = 91.82048, step = 4600 (1.123 sec)\n",
      "INFO:tensorflow:global_step/sec: 91.1083\n",
      "INFO:tensorflow:loss = 144.35867, step = 4700 (1.098 sec)\n",
      "INFO:tensorflow:global_step/sec: 88.0591\n",
      "INFO:tensorflow:loss = 76.85808, step = 4800 (1.136 sec)\n",
      "INFO:tensorflow:global_step/sec: 89.6237\n",
      "INFO:tensorflow:loss = 140.00465, step = 4900 (1.116 sec)\n",
      "INFO:tensorflow:Calling checkpoint listeners before saving checkpoint 5000...\n",
      "INFO:tensorflow:Saving checkpoints for 5000 into taxi_trained/model.ckpt.\n",
      "INFO:tensorflow:Calling checkpoint listeners after saving checkpoint 5000...\n",
      "INFO:tensorflow:Calling model_fn.\n",
      "INFO:tensorflow:Done calling model_fn.\n",
      "INFO:tensorflow:Starting evaluation at 2022-08-21T13:47:03\n",
      "INFO:tensorflow:Graph was finalized.\n",
      "INFO:tensorflow:Restoring parameters from taxi_trained/model.ckpt-5000\n",
      "INFO:tensorflow:Running local_init_op.\n",
      "INFO:tensorflow:Done running local_init_op.\n",
      "INFO:tensorflow:Inference Time : 0.30913s\n",
      "INFO:tensorflow:Finished evaluation at 2022-08-21-13:47:03\n",
      "INFO:tensorflow:Saving dict for global step 5000: average_loss = 91.87918, global_step = 5000, label/mean = 11.111527, loss = 80.783646, prediction/mean = 11.341272\n",
      "INFO:tensorflow:Saving 'checkpoint_path' summary for global step 5000: taxi_trained/model.ckpt-5000\n",
      "INFO:tensorflow:Calling model_fn.\n",
      "INFO:tensorflow:Done calling model_fn.\n",
      "WARNING:tensorflow:From /home/vadzim/miniconda3/lib/python3.9/site-packages/tensorflow/python/saved_model/signature_def_utils_impl.py:200: build_tensor_info (from tensorflow.python.saved_model.utils_impl) is deprecated and will be removed in a future version.\n",
      "Instructions for updating:\n",
      "This function will only be available through the v1 compatibility library as tf.compat.v1.saved_model.utils.build_tensor_info or tf.compat.v1.saved_model.build_tensor_info.\n",
      "INFO:tensorflow:Signatures INCLUDED in export for Classify: None\n",
      "INFO:tensorflow:Signatures INCLUDED in export for Regress: None\n",
      "INFO:tensorflow:Signatures INCLUDED in export for Predict: ['predict']\n",
      "INFO:tensorflow:Signatures INCLUDED in export for Train: None\n",
      "INFO:tensorflow:Signatures INCLUDED in export for Eval: None\n",
      "INFO:tensorflow:Signatures EXCLUDED from export because they cannot be be served via TensorFlow Serving APIs:\n",
      "INFO:tensorflow:'serving_default' : Regression input must be a single string Tensor; got {'pickuplon': <tf.Tensor 'Placeholder:0' shape=(None,) dtype=float32>, 'pickuplat': <tf.Tensor 'Placeholder_1:0' shape=(None,) dtype=float32>, 'dropofflat': <tf.Tensor 'Placeholder_2:0' shape=(None,) dtype=float32>, 'dropofflon': <tf.Tensor 'Placeholder_3:0' shape=(None,) dtype=float32>, 'passengers': <tf.Tensor 'Placeholder_4:0' shape=(None,) dtype=float32>}\n",
      "INFO:tensorflow:'regression' : Regression input must be a single string Tensor; got {'pickuplon': <tf.Tensor 'Placeholder:0' shape=(None,) dtype=float32>, 'pickuplat': <tf.Tensor 'Placeholder_1:0' shape=(None,) dtype=float32>, 'dropofflat': <tf.Tensor 'Placeholder_2:0' shape=(None,) dtype=float32>, 'dropofflon': <tf.Tensor 'Placeholder_3:0' shape=(None,) dtype=float32>, 'passengers': <tf.Tensor 'Placeholder_4:0' shape=(None,) dtype=float32>}\n",
      "WARNING:tensorflow:Export includes no default signature!\n",
      "INFO:tensorflow:Restoring parameters from taxi_trained/model.ckpt-5000\n",
      "INFO:tensorflow:Assets added to graph.\n",
      "INFO:tensorflow:No assets to write.\n",
      "INFO:tensorflow:SavedModel written to: taxi_trained/export/exporter/temp-1661078823/saved_model.pb\n",
      "INFO:tensorflow:Loss for final step: 91.64303.\n"
     ]
    }
   ],
   "source": [
    "# Run training\n",
    "OUTDIR = 'taxi_trained'\n",
    "shutil.rmtree(OUTDIR, ignore_errors=True) # start fresh each time\n",
    "train_and_evaluate(OUTDIR, num_train_steps=5000)"
   ]
  }
 ],
 "metadata": {
  "kernelspec": {
   "display_name": "Python 3 (ipykernel)",
   "language": "python",
   "name": "python3"
  },
  "language_info": {
   "codemirror_mode": {
    "name": "ipython",
    "version": 3
   },
   "file_extension": ".py",
   "mimetype": "text/x-python",
   "name": "python",
   "nbconvert_exporter": "python",
   "pygments_lexer": "ipython3",
   "version": "3.9.7"
  }
 },
 "nbformat": 4,
 "nbformat_minor": 5
}
