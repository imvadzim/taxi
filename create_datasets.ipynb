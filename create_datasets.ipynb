{
 "cells": [
  {
   "cell_type": "code",
   "execution_count": null,
   "id": "c88c16c5",
   "metadata": {},
   "outputs": [],
   "source": [
    "# Explore and create ML datasets\n",
    "# Extract sample data from BigQuery\n",
    "# Exploring data\n",
    "# Quality control and other preprocessing\n",
    "# Create ML datasets\n",
    "# Verify that datasets exist\n",
    "# Benchmark\n",
    "# Benchmark on same dataset"
   ]
  }
 ],
 "metadata": {
  "kernelspec": {
   "display_name": "Python 3 (ipykernel)",
   "language": "python",
   "name": "python3"
  },
  "language_info": {
   "codemirror_mode": {
    "name": "ipython",
    "version": 3
   },
   "file_extension": ".py",
   "mimetype": "text/x-python",
   "name": "python",
   "nbconvert_exporter": "python",
   "pygments_lexer": "ipython3",
   "version": "3.9.7"
  }
 },
 "nbformat": 4,
 "nbformat_minor": 5
}
